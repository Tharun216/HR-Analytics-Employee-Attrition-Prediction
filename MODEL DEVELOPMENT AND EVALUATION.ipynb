{
 "cells": [
  {
   "cell_type": "code",
   "execution_count": 3,
   "id": "3ee98480-555d-4a28-b47b-db5660cada85",
   "metadata": {},
   "outputs": [],
   "source": [
    "import pandas as pd\n",
    "import numpy as np\n",
    "from pandas import DataFrame\n",
    "%matplotlib inline\n",
    "import matplotlib.pyplot as plt\n",
    "import seaborn as sns\n",
    "\n",
    "from sklearn import preprocessing\n",
    "import math\n",
    "from sklearn.model_selection import train_test_split\n",
    "from sklearn import metrics "
   ]
  },
  {
   "cell_type": "code",
   "execution_count": 4,
   "id": "debbe12e-ea75-498b-82dc-313a1d78a980",
   "metadata": {},
   "outputs": [],
   "source": [
    "data = pd.read_csv('hr.csv')\n",
    "data = data.drop(columns=['StandardHours','EmployeeCount','Over18','EmployeeNumber','StockOptionLevel'])\n",
    "\n",
    "le = preprocessing.LabelEncoder()\n",
    "categorial_variables = ['Attrition','BusinessTravel','Department','EducationField',\n",
    "                        'Gender','JobRole','MaritalStatus','OverTime']\n",
    "for i in categorial_variables:\n",
    "    data[i] = le.fit_transform(data[i])\n",
    "data.head(5)\n",
    "data.to_csv('LabelEncoded_CleanData.csv')"
   ]
  },
  {
   "cell_type": "code",
   "execution_count": 5,
   "id": "25a4dcf3-a44b-4237-8ea7-52fb7d7468a8",
   "metadata": {},
   "outputs": [
    {
     "data": {
      "text/plain": [
       "(1470, 29)"
      ]
     },
     "execution_count": 5,
     "metadata": {},
     "output_type": "execute_result"
    }
   ],
   "source": [
    "target = data['Attrition']\n",
    "train = data.drop('Attrition',axis = 1)\n",
    "train.shape"
   ]
  },
  {
   "cell_type": "markdown",
   "id": "69d861b8-bf22-48ca-9b28-9107f734406d",
   "metadata": {},
   "source": [
    "### Implementation of all the popular classifiers in scikit-learn\n",
    "#### 1.Logistic Regression\n",
    "#### 2.SVM\n",
    "#### 3.KNN\n",
    "#### 4.Decision Tree\n",
    "#### 5.K Means Clustering"
   ]
  },
  {
   "cell_type": "code",
   "execution_count": 6,
   "id": "686623b2-79e7-4ec9-886e-6ba80b270d41",
   "metadata": {},
   "outputs": [],
   "source": [
    "train_accuracy = []\n",
    "test_accuracy = []\n",
    "models = ['Logistic Regression','SVM','KNN','Decision Tree','K Means Clustering']"
   ]
  },
  {
   "cell_type": "code",
   "execution_count": 7,
   "id": "a355f130-cfdd-4ae5-b3d7-e1cda75e244f",
   "metadata": {},
   "outputs": [],
   "source": [
    "#Defining a function which will give us train and test accuracy for each classifier.\n",
    "def train_test_error(y_train,y_test):\n",
    "    train_error = ((y_train==Y_train).sum())/len(y_train)*100\n",
    "    test_error = ((y_test==Y_test).sum())/len(Y_test)*100\n",
    "    train_accuracy.append(train_error)\n",
    "    test_accuracy.append(test_error)\n",
    "    print('{}'.format(train_error) + \" is the train accuracy\")\n",
    "    print('{}'.format(test_error) + \" is the test accuracy\")"
   ]
  },
  {
   "cell_type": "code",
   "execution_count": 8,
   "id": "0acd8f99-3d1b-4762-b858-12b162713858",
   "metadata": {},
   "outputs": [],
   "source": [
    "X_train, X_test, Y_train, Y_test = train_test_split(train, target, test_size=0.33, random_state=42)"
   ]
  },
  {
   "cell_type": "markdown",
   "id": "26db97cd-7225-414c-8106-732afef25c00",
   "metadata": {},
   "source": [
    "# Logistic Regression"
   ]
  },
  {
   "cell_type": "code",
   "execution_count": 9,
   "id": "20d2cb3f-5062-4108-a361-38014a16350b",
   "metadata": {},
   "outputs": [
    {
     "name": "stdout",
     "output_type": "stream",
     "text": [
      "83.63821138211382 is the train accuracy\n",
      "85.39094650205762 is the test accuracy\n"
     ]
    },
    {
     "name": "stderr",
     "output_type": "stream",
     "text": [
      "C:\\Users\\HP\\AppData\\Local\\Programs\\Python\\Python312\\Lib\\site-packages\\sklearn\\linear_model\\_logistic.py:469: ConvergenceWarning: lbfgs failed to converge (status=1):\n",
      "STOP: TOTAL NO. of ITERATIONS REACHED LIMIT.\n",
      "\n",
      "Increase the number of iterations (max_iter) or scale the data as shown in:\n",
      "    https://scikit-learn.org/stable/modules/preprocessing.html\n",
      "Please also refer to the documentation for alternative solver options:\n",
      "    https://scikit-learn.org/stable/modules/linear_model.html#logistic-regression\n",
      "  n_iter_i = _check_optimize_result(\n"
     ]
    }
   ],
   "source": [
    "from sklearn.linear_model import LogisticRegression\n",
    "log_reg = LogisticRegression()\n",
    "log_reg.fit(X_train,Y_train)\n",
    "train_predict = log_reg.predict(X_train)\n",
    "test_predict = log_reg.predict(X_test)\n",
    "y_prob = log_reg.predict(train)\n",
    "y_pred = np.where(y_prob > 0.5, 1, 0)\n",
    "train_test_error(train_predict , test_predict)"
   ]
  },
  {
   "cell_type": "markdown",
   "id": "7d2f1136-902f-4a9c-ac8d-0c9f5e4aebdf",
   "metadata": {},
   "source": [
    "# SVM"
   ]
  },
  {
   "cell_type": "code",
   "execution_count": 10,
   "id": "283af570-56f0-4236-b8b9-e844a5b1c04f",
   "metadata": {},
   "outputs": [
    {
     "name": "stdout",
     "output_type": "stream",
     "text": [
      "83.02845528455285 is the train accuracy\n",
      "85.59670781893004 is the test accuracy\n"
     ]
    }
   ],
   "source": [
    "from sklearn import svm\n",
    "SVM = svm.SVC(probability=True)\n",
    "SVM.fit(X_train,Y_train)\n",
    "train_predict = SVM.predict(X_train)\n",
    "test_predict = SVM.predict(X_test)\n",
    "train_test_error(train_predict , test_predict)"
   ]
  },
  {
   "cell_type": "markdown",
   "id": "a4172567-289f-4b62-9f16-4f4fee284a13",
   "metadata": {},
   "source": [
    "# KNN"
   ]
  },
  {
   "cell_type": "code",
   "execution_count": 11,
   "id": "8640516b-fb82-4534-b6ce-941f77653ef7",
   "metadata": {},
   "outputs": [
    {
     "name": "stdout",
     "output_type": "stream",
     "text": [
      "100.0 is the train accuracy\n",
      "84.5679012345679 is the test accuracy\n"
     ]
    }
   ],
   "source": [
    "from sklearn import neighbors\n",
    "n_neighbors = 15\n",
    "knn = neighbors.KNeighborsClassifier(n_neighbors, weights='distance')\n",
    "knn.fit(X_train,Y_train)\n",
    "train_predict = knn.predict(X_train)\n",
    "test_predict = knn.predict(X_test)\n",
    "train_test_error(train_predict , test_predict)\n"
   ]
  },
  {
   "cell_type": "markdown",
   "id": "68cb35b9-ceb4-400b-a938-2d2a690a456c",
   "metadata": {},
   "source": [
    "# Decision Tree"
   ]
  },
  {
   "cell_type": "code",
   "execution_count": 12,
   "id": "9b334881-0f9d-44f4-a95e-0aeec0f5b243",
   "metadata": {},
   "outputs": [
    {
     "name": "stdout",
     "output_type": "stream",
     "text": [
      "100.0 is the train accuracy\n",
      "80.65843621399176 is the test accuracy\n"
     ]
    }
   ],
   "source": [
    "from sklearn import tree\n",
    "dec = tree.DecisionTreeClassifier()\n",
    "dec.fit(X_train,Y_train)\n",
    "train_predict = dec.predict(X_train)\n",
    "test_predict = dec.predict(X_test)\n",
    "train_test_error(train_predict , test_predict)"
   ]
  },
  {
   "cell_type": "markdown",
   "id": "ae8b7a81-201a-41bf-aa79-687ef44bb436",
   "metadata": {},
   "source": [
    "# K-MEANS CLUSTERING"
   ]
  },
  {
   "cell_type": "code",
   "execution_count": 13,
   "id": "89ba5205-cecf-4ee0-8f53-26fb3b4671d4",
   "metadata": {},
   "outputs": [
    {
     "name": "stdout",
     "output_type": "stream",
     "text": [
      "50.0 is the train accuracy\n",
      "50.82304526748971 is the test accuracy\n"
     ]
    }
   ],
   "source": [
    "from sklearn.cluster import KMeans\n",
    "kms = KMeans(n_clusters=2, random_state=1)\n",
    "kms.fit(X_train,Y_train)\n",
    "train_predict = kms.predict(X_train)\n",
    "test_predict = kms.predict(X_test)\n",
    "train_test_error(train_predict,test_predict)"
   ]
  },
  {
   "cell_type": "code",
   "execution_count": 14,
   "id": "93f82f9e-6fdb-4331-b51c-0ecf6ccf9d94",
   "metadata": {},
   "outputs": [],
   "source": [
    "results = DataFrame({\"Test Accuracy\" : test_accuracy , \"Train Accuracy\" : train_accuracy} , index = models)"
   ]
  },
  {
   "cell_type": "code",
   "execution_count": 15,
   "id": "dc0250f6-a4d6-4dfc-a8f7-bb5fd1b6e783",
   "metadata": {},
   "outputs": [
    {
     "data": {
      "text/html": [
       "<div>\n",
       "<style scoped>\n",
       "    .dataframe tbody tr th:only-of-type {\n",
       "        vertical-align: middle;\n",
       "    }\n",
       "\n",
       "    .dataframe tbody tr th {\n",
       "        vertical-align: top;\n",
       "    }\n",
       "\n",
       "    .dataframe thead th {\n",
       "        text-align: right;\n",
       "    }\n",
       "</style>\n",
       "<table border=\"1\" class=\"dataframe\">\n",
       "  <thead>\n",
       "    <tr style=\"text-align: right;\">\n",
       "      <th></th>\n",
       "      <th>Test Accuracy</th>\n",
       "      <th>Train Accuracy</th>\n",
       "    </tr>\n",
       "  </thead>\n",
       "  <tbody>\n",
       "    <tr>\n",
       "      <th>Logistic Regression</th>\n",
       "      <td>85.390947</td>\n",
       "      <td>83.638211</td>\n",
       "    </tr>\n",
       "    <tr>\n",
       "      <th>SVM</th>\n",
       "      <td>85.596708</td>\n",
       "      <td>83.028455</td>\n",
       "    </tr>\n",
       "    <tr>\n",
       "      <th>KNN</th>\n",
       "      <td>84.567901</td>\n",
       "      <td>100.000000</td>\n",
       "    </tr>\n",
       "    <tr>\n",
       "      <th>Decision Tree</th>\n",
       "      <td>80.658436</td>\n",
       "      <td>100.000000</td>\n",
       "    </tr>\n",
       "    <tr>\n",
       "      <th>K Means Clustering</th>\n",
       "      <td>50.823045</td>\n",
       "      <td>50.000000</td>\n",
       "    </tr>\n",
       "  </tbody>\n",
       "</table>\n",
       "</div>"
      ],
      "text/plain": [
       "                     Test Accuracy  Train Accuracy\n",
       "Logistic Regression      85.390947       83.638211\n",
       "SVM                      85.596708       83.028455\n",
       "KNN                      84.567901      100.000000\n",
       "Decision Tree            80.658436      100.000000\n",
       "K Means Clustering       50.823045       50.000000"
      ]
     },
     "execution_count": 15,
     "metadata": {},
     "output_type": "execute_result"
    }
   ],
   "source": [
    "results"
   ]
  },
  {
   "cell_type": "markdown",
   "id": "7873daeb-0433-49dd-ac4e-a7abfacaecc7",
   "metadata": {},
   "source": [
    "# Since Logistic Regression has the highest test accuracy, Logistic regression is the winner"
   ]
  },
  {
   "cell_type": "code",
   "execution_count": null,
   "id": "b55ba386-3c63-430a-8347-1cbd1018ea4f",
   "metadata": {},
   "outputs": [],
   "source": []
  }
 ],
 "metadata": {
  "kernelspec": {
   "display_name": "Python 3 (ipykernel)",
   "language": "python",
   "name": "python3"
  },
  "language_info": {
   "codemirror_mode": {
    "name": "ipython",
    "version": 3
   },
   "file_extension": ".py",
   "mimetype": "text/x-python",
   "name": "python",
   "nbconvert_exporter": "python",
   "pygments_lexer": "ipython3",
   "version": "3.12.5"
  }
 },
 "nbformat": 4,
 "nbformat_minor": 5
}
